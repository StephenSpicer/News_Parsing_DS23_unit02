{
 "metadata": {
  "language_info": {
   "codemirror_mode": {
    "name": "ipython",
    "version": 3
   },
   "file_extension": ".py",
   "mimetype": "text/x-python",
   "name": "python",
   "nbconvert_exporter": "python",
   "pygments_lexer": "ipython3",
   "version": "3.9.0-final"
  },
  "orig_nbformat": 2,
  "kernelspec": {
   "name": "python3",
   "display_name": "Python 3",
   "language": "python"
  }
 },
 "nbformat": 4,
 "nbformat_minor": 2,
 "cells": [
  {
   "cell_type": "code",
   "execution_count": 1,
   "metadata": {},
   "outputs": [],
   "source": [
    "# this is our preamble cell :\n",
    "import plotly.graph_objects as go\n",
    "import pandas as pd\n",
    "from pandas import DataFrame\n",
    "import numpy as np\n",
    "import matplotlib \n",
    "\n",
    "\n",
    "import category_encoders as ce\n",
    "from sklearn.model_selection import train_test_split\n",
    "\n",
    "\n",
    "from sklearn.pipeline import Pipeline\n",
    "from sklearn.pipeline import make_pipeline\n",
    "from category_encoders import OrdinalEncoder\n",
    "\n",
    "from sklearn import cluster\n",
    "from sklearn.feature_extraction.text import CountVectorizer\n",
    "from sklearn.feature_extraction.text import TfidfVectorizer\n",
    "from sklearn.decomposition import TruncatedSVD\n",
    "from sklearn.ensemble import GradientBoostingClassifier\n",
    "\n",
    "from sklearn.metrics import accuracy_score\n",
    "from sklearn.model_selection import cross_val_score\n",
    "from sklearn.tree import plot_tree\n",
    "\n",
    "# from shap import TreeExplainer, initjs, force_plot\n",
    "from pdpbox.pdp import pdp_interact, pdp_interact_plot"
   ]
  },
  {
   "cell_type": "code",
   "execution_count": 7,
   "metadata": {},
   "outputs": [
    {
     "output_type": "stream",
     "name": "stdout",
     "text": [
      "Real data shape:  (21417, 5)\n",
      "Fake data shape:  (23436, 5)\n"
     ]
    }
   ],
   "source": [
    "# importing and minor cleaning first, parsing dates. \n",
    "\n",
    "dfreal = pd.read_csv('True.csv',\n",
    "                    parse_dates = ['date'])\n",
    "#                    index_col = 'date')\n",
    "dfreal['Fake'] = 0\n",
    "print('Real data shape: ', dfreal.shape)\n",
    "\n",
    "dffake = pd.read_csv('Fake.csv',\n",
    "                    parse_dates = ['date'])\n",
    "#                    index_col = 'date')\n",
    "\n",
    "dffake['Fake'] = 1\n",
    "\n",
    "# I have added the boolean column for Fake/Real to each. \n",
    "\n",
    "# This next bit will clean up the messy date columns from the fake csv. \n",
    "\n",
    "searchfor = ['http', '-', 'MSNBC']\n",
    "dffake = dffake[~dffake['date'].str.contains('|'.join(searchfor))]\n",
    "\n",
    "print('Fake data shape: ', dffake.shape)"
   ]
  },
  {
   "cell_type": "code",
   "execution_count": 8,
   "metadata": {},
   "outputs": [
    {
     "output_type": "stream",
     "name": "stdout",
     "text": [
      "Real trimmed shape:  (21400, 5)\nFake trimmed shape:  (21400, 5)\n\nCombined and trimmed (equal parts Real and Fake) shape:  (42800, 5)\n\n<bound method DataFrame.info of                                                    title  \\\n0      Trump on Twitter (Dec 26) - Hillary Clinton, T...   \n1      U.S. appeals court rejects challenge to Trump ...   \n2      Treasury Secretary Mnuchin was sent gift-wrapp...   \n3      Federal judge partially lifts Trump's latest r...   \n4      Exclusive: U.S. memo weakens guidelines for pr...   \n...                                                  ...   \n42795  McPain: John McCain Furious That Iran Treated ...   \n42796  JUSTICE? Yahoo Settles E-mail Privacy Class-ac...   \n42797  Sunnistan: US and Allied ‘Safe Zone’ Plan to T...   \n42798  How to Blow $700 Million: Al Jazeera America F...   \n42799  10 U.S. Navy Sailors Held by Iranian Military ...   \n\n                                                    text       subject  \\\n0      The following statements were posted to the ve...  politicsNews   \n1      (Reuters) - A U.S. appeals court in Washington...  politicsNews   \n2      (Reuters) - A gift-wrapped package addressed t...  politicsNews   \n3      WASHINGTON (Reuters) - A federal judge in Seat...  politicsNews   \n4      NEW YORK (Reuters) - The U.S. Justice Departme...  politicsNews   \n...                                                  ...           ...   \n42795  21st Century Wire says As 21WIRE reported earl...   Middle-east   \n42796  21st Century Wire says It s a familiar theme. ...   Middle-east   \n42797  Patrick Henningsen  21st Century WireRemember ...   Middle-east   \n42798  21st Century Wire says Al Jazeera America will...   Middle-east   \n42799  21st Century Wire says As 21WIRE predicted in ...   Middle-east   \n\n            date  Fake  \n0     2017-12-26     0  \n1     2017-12-26     0  \n2     2017-12-24     0  \n3     2017-12-24     0  \n4     2017-12-23     0  \n...          ...   ...  \n42795 2016-01-16     1  \n42796 2016-01-16     1  \n42797 2016-01-15     1  \n42798 2016-01-14     1  \n42799 2016-01-12     1  \n\n[42800 rows x 5 columns]>\n"
     ]
    }
   ],
   "source": [
    "# Now, I want to trim them to be the same size, so that we have our baseline right at 0.5 -the same as flipping a coin. \n",
    "\n",
    "dfreal_trimmed = dfreal[-21_400 :]\n",
    "print('Real trimmed shape: ', dfreal_trimmed.shape)\n",
    "\n",
    "dffake_trimmed = dffake[-21_400 :]\n",
    "print('Fake trimmed shape: ', dffake_trimmed.shape)\n",
    "\n",
    "# and now combine them into one dataframe:\n",
    "df_joined = dfreal_trimmed.append(dffake_trimmed, ignore_index=True)\n",
    "\n",
    "df_joined['date'] = pd.to_datetime(df_joined['date'])\n",
    "\n",
    "print()\n",
    "print('Combined and trimmed (equal parts Real and Fake) shape: ', df_joined.shape)\n",
    "print()\n",
    "print(df_joined.info)"
   ]
  },
  {
   "cell_type": "code",
   "execution_count": 9,
   "metadata": {},
   "outputs": [
    {
     "output_type": "stream",
     "name": "stdout",
     "text": [
      "(42800, 4)\nIndex(['title', 'text', 'date', 'Fake'], dtype='object')\n"
     ]
    }
   ],
   "source": [
    "# we're going to need to drop those colums that will interfere with the model once we have vectorized the text. \n",
    "# for now, we will drop subject and leave date. \n",
    "\n",
    "df_joined.drop(['subject'], axis=1, inplace=True)\n",
    "print(df_joined.shape)\n",
    "print(df_joined.columns)"
   ]
  },
  {
   "cell_type": "code",
   "execution_count": null,
   "metadata": {},
   "outputs": [],
   "source": [
    "# now I'm going to create another frame for when i want to vectorize the titles. "
   ]
  },
  {
   "cell_type": "code",
   "execution_count": null,
   "metadata": {},
   "outputs": [],
   "source": []
  },
  {
   "cell_type": "code",
   "execution_count": null,
   "metadata": {},
   "outputs": [],
   "source": []
  },
  {
   "cell_type": "code",
   "execution_count": null,
   "metadata": {},
   "outputs": [],
   "source": []
  }
 ]
}